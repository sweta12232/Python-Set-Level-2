{
 "cells": [
  {
   "cell_type": "markdown",
   "id": "74e8da8d",
   "metadata": {},
   "source": [
    "# SETS"
   ]
  },
  {
   "cell_type": "markdown",
   "id": "cdc2c15c",
   "metadata": {},
   "source": [
    "\n",
    "* unordered\n",
    "* unchangeable -  we can modify a set by adding or removing elements. The unchangeable (immutable) property refers to the uniqueness of elements within the set\n",
    "* unindexed or slicing- we cannot access elements by index like as like we do wth lists or tuples. \n",
    "* It does allow duplicate elements and it consider True = 1 and False = 0 as same value\n",
    "* It can created using curly braces {} or the set() function.\n",
    "* In set items can be of any data type:int, bool, "
   ]
  },
  {
   "cell_type": "code",
   "execution_count": 4,
   "id": "cbd4bec8",
   "metadata": {},
   "outputs": [
    {
     "name": "stdout",
     "output_type": "stream",
     "text": [
      "<class 'set'>\n",
      "{'Van', 'Car', 'Bus', 'Jeep'}\n"
     ]
    }
   ],
   "source": [
    "sets = {\"Car\", \"Bus\", \"Van\", \"Jeep\"}\n",
    "print(type(sets))\n",
    "print(sets)"
   ]
  },
  {
   "cell_type": "code",
   "execution_count": 2,
   "id": "25380fff",
   "metadata": {},
   "outputs": [
    {
     "name": "stdout",
     "output_type": "stream",
     "text": [
      "{False, 'Bus', True, 'Jeep', 'Car', 'Van'}\n",
      "6\n"
     ]
    }
   ],
   "source": [
    "sets = {\"Car\", \"Bus\", \"Van\", \"Jeep\", \"Jeep\", True, 1, False, 0}\n",
    "print(sets)\n",
    "print(len(sets))"
   ]
  },
  {
   "cell_type": "code",
   "execution_count": 4,
   "id": "f4037eb0",
   "metadata": {},
   "outputs": [
    {
     "name": "stdout",
     "output_type": "stream",
     "text": [
      "{False, 'Bus', 1.1, True, 'Jeep', 'Car', 'Van'}\n"
     ]
    }
   ],
   "source": [
    "sets = {\"Car\", 1.1 ,\"Bus\", \"Van\", \"Jeep\", \"Jeep\", True, 1, False, 0}\n",
    "print(sets)"
   ]
  },
  {
   "cell_type": "code",
   "execution_count": 5,
   "id": "9f34321d",
   "metadata": {},
   "outputs": [
    {
     "name": "stdout",
     "output_type": "stream",
     "text": [
      "{False, 'Bus', 1.1, True, 'Jeep', 'Car', 'Van', 'Truck'}\n"
     ]
    }
   ],
   "source": [
    "sets = {\"Car\", 1.1 ,\"Bus\", \"Van\", \"Jeep\", \"Jeep\", True, 1, False, 0}\n",
    "sets.add(\"Truck\")\n",
    "print(sets)"
   ]
  },
  {
   "cell_type": "code",
   "execution_count": 7,
   "id": "b0515795",
   "metadata": {},
   "outputs": [
    {
     "name": "stdout",
     "output_type": "stream",
     "text": [
      "{False, 'Bus', 1.1, True, 'Jeep', 'Car', 'Van'}\n"
     ]
    }
   ],
   "source": [
    "sets = {\"Car\", 1.1 ,\"Bus\", \"Van\", \"Jeep\", \"Jeep\", True, 1, False, 0, \"Truck\"}\n",
    "sets.remove(\"Truck\")\n",
    "print(sets)"
   ]
  },
  {
   "cell_type": "code",
   "execution_count": 8,
   "id": "e1d3190c",
   "metadata": {},
   "outputs": [
    {
     "name": "stdout",
     "output_type": "stream",
     "text": [
      "{False, 'Bus', 1.1, True, 'Jeep', 'Car', 'Van'}\n"
     ]
    }
   ],
   "source": [
    "sets = {\"Car\", 1.1 ,\"Bus\", \"Van\", \"Jeep\", \"Jeep\", True, 1, False, 0, \"Truck\"}\n",
    "sets.discard(\"Truck\")\n",
    "print(sets)"
   ]
  }
 ],
 "metadata": {
  "kernelspec": {
   "display_name": "Python 3 (ipykernel)",
   "language": "python",
   "name": "python3"
  },
  "language_info": {
   "codemirror_mode": {
    "name": "ipython",
    "version": 3
   },
   "file_extension": ".py",
   "mimetype": "text/x-python",
   "name": "python",
   "nbconvert_exporter": "python",
   "pygments_lexer": "ipython3",
   "version": "3.9.12"
  }
 },
 "nbformat": 4,
 "nbformat_minor": 5
}
